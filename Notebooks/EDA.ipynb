{
 "cells": [
  {
   "cell_type": "markdown",
   "metadata": {},
   "source": [
    "<h1 style=\"color:white; font-weight:bold;\">Exploratory Data Analysis</h1>"
   ]
  },
  {
   "cell_type": "code",
   "execution_count": 15,
   "metadata": {},
   "outputs": [],
   "source": [
    "import pandas as pd\n",
    "\n",
    "import matplotlib.pyplot as plt\n",
    "import plotly.express as px\n",
    "import plotly.graph_objects as go\n",
    "from plotly.subplots import make_subplots\n",
    "import plotly.colors as colors\n",
    "\n",
    "import dash\n",
    "from dash import dcc, html"
   ]
  },
  {
   "cell_type": "code",
   "execution_count": 4,
   "metadata": {},
   "outputs": [],
   "source": [
    "df = pd.read_csv(\"D:\\College\\Placements\\Projects\\Customer_Churn_Analysis\\Dataset\\Cleaned_Data.csv\")"
   ]
  },
  {
   "cell_type": "code",
   "execution_count": 5,
   "metadata": {},
   "outputs": [],
   "source": [
    "# Creating an index object of float type columns\n",
    "float_columns = df.select_dtypes(include=['float']).columns\n",
    "\n",
    "# Creating an index object of String type columns\n",
    "object_columns = df.select_dtypes(include=['object']).columns\n",
    "\n",
    "# Creating an index object of Ordinal type columns\n",
    "ordinal_columns = df[['CityTier','SatisfactionScore', 'Complain' ]].columns"
   ]
  },
  {
   "cell_type": "markdown",
   "metadata": {},
   "source": [
    "<h3 style=\"color:white; font-weight:bold;\">1. Overall Churn Distribution</h3>"
   ]
  },
  {
   "cell_type": "code",
   "execution_count": 14,
   "metadata": {},
   "outputs": [
    {
     "data": {
      "application/vnd.plotly.v1+json": {
       "config": {
        "plotlyServerURL": "https://plot.ly"
       },
       "data": [
        {
         "domain": {
          "x": [
           0,
           1
          ],
          "y": [
           0,
           1
          ]
         },
         "hole": 0.4,
         "hovertemplate": "label=%{label}<br>value=%{value}<extra></extra>",
         "labels": [
          false,
          true
         ],
         "legendgroup": "",
         "name": "",
         "showlegend": true,
         "textinfo": "percent+label",
         "type": "pie",
         "values": [
          4682,
          948
         ]
        }
       ],
       "layout": {
        "legend": {
         "tracegroupgap": 0
        },
        "piecolorway": [
         "rgb(204,235,197)",
         "rgb(251,180,174)"
        ],
        "template": {
         "data": {
          "bar": [
           {
            "error_x": {
             "color": "#2a3f5f"
            },
            "error_y": {
             "color": "#2a3f5f"
            },
            "marker": {
             "line": {
              "color": "#E5ECF6",
              "width": 0.5
             },
             "pattern": {
              "fillmode": "overlay",
              "size": 10,
              "solidity": 0.2
             }
            },
            "type": "bar"
           }
          ],
          "barpolar": [
           {
            "marker": {
             "line": {
              "color": "#E5ECF6",
              "width": 0.5
             },
             "pattern": {
              "fillmode": "overlay",
              "size": 10,
              "solidity": 0.2
             }
            },
            "type": "barpolar"
           }
          ],
          "carpet": [
           {
            "aaxis": {
             "endlinecolor": "#2a3f5f",
             "gridcolor": "white",
             "linecolor": "white",
             "minorgridcolor": "white",
             "startlinecolor": "#2a3f5f"
            },
            "baxis": {
             "endlinecolor": "#2a3f5f",
             "gridcolor": "white",
             "linecolor": "white",
             "minorgridcolor": "white",
             "startlinecolor": "#2a3f5f"
            },
            "type": "carpet"
           }
          ],
          "choropleth": [
           {
            "colorbar": {
             "outlinewidth": 0,
             "ticks": ""
            },
            "type": "choropleth"
           }
          ],
          "contour": [
           {
            "colorbar": {
             "outlinewidth": 0,
             "ticks": ""
            },
            "colorscale": [
             [
              0,
              "#0d0887"
             ],
             [
              0.1111111111111111,
              "#46039f"
             ],
             [
              0.2222222222222222,
              "#7201a8"
             ],
             [
              0.3333333333333333,
              "#9c179e"
             ],
             [
              0.4444444444444444,
              "#bd3786"
             ],
             [
              0.5555555555555556,
              "#d8576b"
             ],
             [
              0.6666666666666666,
              "#ed7953"
             ],
             [
              0.7777777777777778,
              "#fb9f3a"
             ],
             [
              0.8888888888888888,
              "#fdca26"
             ],
             [
              1,
              "#f0f921"
             ]
            ],
            "type": "contour"
           }
          ],
          "contourcarpet": [
           {
            "colorbar": {
             "outlinewidth": 0,
             "ticks": ""
            },
            "type": "contourcarpet"
           }
          ],
          "heatmap": [
           {
            "colorbar": {
             "outlinewidth": 0,
             "ticks": ""
            },
            "colorscale": [
             [
              0,
              "#0d0887"
             ],
             [
              0.1111111111111111,
              "#46039f"
             ],
             [
              0.2222222222222222,
              "#7201a8"
             ],
             [
              0.3333333333333333,
              "#9c179e"
             ],
             [
              0.4444444444444444,
              "#bd3786"
             ],
             [
              0.5555555555555556,
              "#d8576b"
             ],
             [
              0.6666666666666666,
              "#ed7953"
             ],
             [
              0.7777777777777778,
              "#fb9f3a"
             ],
             [
              0.8888888888888888,
              "#fdca26"
             ],
             [
              1,
              "#f0f921"
             ]
            ],
            "type": "heatmap"
           }
          ],
          "heatmapgl": [
           {
            "colorbar": {
             "outlinewidth": 0,
             "ticks": ""
            },
            "colorscale": [
             [
              0,
              "#0d0887"
             ],
             [
              0.1111111111111111,
              "#46039f"
             ],
             [
              0.2222222222222222,
              "#7201a8"
             ],
             [
              0.3333333333333333,
              "#9c179e"
             ],
             [
              0.4444444444444444,
              "#bd3786"
             ],
             [
              0.5555555555555556,
              "#d8576b"
             ],
             [
              0.6666666666666666,
              "#ed7953"
             ],
             [
              0.7777777777777778,
              "#fb9f3a"
             ],
             [
              0.8888888888888888,
              "#fdca26"
             ],
             [
              1,
              "#f0f921"
             ]
            ],
            "type": "heatmapgl"
           }
          ],
          "histogram": [
           {
            "marker": {
             "pattern": {
              "fillmode": "overlay",
              "size": 10,
              "solidity": 0.2
             }
            },
            "type": "histogram"
           }
          ],
          "histogram2d": [
           {
            "colorbar": {
             "outlinewidth": 0,
             "ticks": ""
            },
            "colorscale": [
             [
              0,
              "#0d0887"
             ],
             [
              0.1111111111111111,
              "#46039f"
             ],
             [
              0.2222222222222222,
              "#7201a8"
             ],
             [
              0.3333333333333333,
              "#9c179e"
             ],
             [
              0.4444444444444444,
              "#bd3786"
             ],
             [
              0.5555555555555556,
              "#d8576b"
             ],
             [
              0.6666666666666666,
              "#ed7953"
             ],
             [
              0.7777777777777778,
              "#fb9f3a"
             ],
             [
              0.8888888888888888,
              "#fdca26"
             ],
             [
              1,
              "#f0f921"
             ]
            ],
            "type": "histogram2d"
           }
          ],
          "histogram2dcontour": [
           {
            "colorbar": {
             "outlinewidth": 0,
             "ticks": ""
            },
            "colorscale": [
             [
              0,
              "#0d0887"
             ],
             [
              0.1111111111111111,
              "#46039f"
             ],
             [
              0.2222222222222222,
              "#7201a8"
             ],
             [
              0.3333333333333333,
              "#9c179e"
             ],
             [
              0.4444444444444444,
              "#bd3786"
             ],
             [
              0.5555555555555556,
              "#d8576b"
             ],
             [
              0.6666666666666666,
              "#ed7953"
             ],
             [
              0.7777777777777778,
              "#fb9f3a"
             ],
             [
              0.8888888888888888,
              "#fdca26"
             ],
             [
              1,
              "#f0f921"
             ]
            ],
            "type": "histogram2dcontour"
           }
          ],
          "mesh3d": [
           {
            "colorbar": {
             "outlinewidth": 0,
             "ticks": ""
            },
            "type": "mesh3d"
           }
          ],
          "parcoords": [
           {
            "line": {
             "colorbar": {
              "outlinewidth": 0,
              "ticks": ""
             }
            },
            "type": "parcoords"
           }
          ],
          "pie": [
           {
            "automargin": true,
            "type": "pie"
           }
          ],
          "scatter": [
           {
            "fillpattern": {
             "fillmode": "overlay",
             "size": 10,
             "solidity": 0.2
            },
            "type": "scatter"
           }
          ],
          "scatter3d": [
           {
            "line": {
             "colorbar": {
              "outlinewidth": 0,
              "ticks": ""
             }
            },
            "marker": {
             "colorbar": {
              "outlinewidth": 0,
              "ticks": ""
             }
            },
            "type": "scatter3d"
           }
          ],
          "scattercarpet": [
           {
            "marker": {
             "colorbar": {
              "outlinewidth": 0,
              "ticks": ""
             }
            },
            "type": "scattercarpet"
           }
          ],
          "scattergeo": [
           {
            "marker": {
             "colorbar": {
              "outlinewidth": 0,
              "ticks": ""
             }
            },
            "type": "scattergeo"
           }
          ],
          "scattergl": [
           {
            "marker": {
             "colorbar": {
              "outlinewidth": 0,
              "ticks": ""
             }
            },
            "type": "scattergl"
           }
          ],
          "scattermapbox": [
           {
            "marker": {
             "colorbar": {
              "outlinewidth": 0,
              "ticks": ""
             }
            },
            "type": "scattermapbox"
           }
          ],
          "scatterpolar": [
           {
            "marker": {
             "colorbar": {
              "outlinewidth": 0,
              "ticks": ""
             }
            },
            "type": "scatterpolar"
           }
          ],
          "scatterpolargl": [
           {
            "marker": {
             "colorbar": {
              "outlinewidth": 0,
              "ticks": ""
             }
            },
            "type": "scatterpolargl"
           }
          ],
          "scatterternary": [
           {
            "marker": {
             "colorbar": {
              "outlinewidth": 0,
              "ticks": ""
             }
            },
            "type": "scatterternary"
           }
          ],
          "surface": [
           {
            "colorbar": {
             "outlinewidth": 0,
             "ticks": ""
            },
            "colorscale": [
             [
              0,
              "#0d0887"
             ],
             [
              0.1111111111111111,
              "#46039f"
             ],
             [
              0.2222222222222222,
              "#7201a8"
             ],
             [
              0.3333333333333333,
              "#9c179e"
             ],
             [
              0.4444444444444444,
              "#bd3786"
             ],
             [
              0.5555555555555556,
              "#d8576b"
             ],
             [
              0.6666666666666666,
              "#ed7953"
             ],
             [
              0.7777777777777778,
              "#fb9f3a"
             ],
             [
              0.8888888888888888,
              "#fdca26"
             ],
             [
              1,
              "#f0f921"
             ]
            ],
            "type": "surface"
           }
          ],
          "table": [
           {
            "cells": {
             "fill": {
              "color": "#EBF0F8"
             },
             "line": {
              "color": "white"
             }
            },
            "header": {
             "fill": {
              "color": "#C8D4E3"
             },
             "line": {
              "color": "white"
             }
            },
            "type": "table"
           }
          ]
         },
         "layout": {
          "annotationdefaults": {
           "arrowcolor": "#2a3f5f",
           "arrowhead": 0,
           "arrowwidth": 1
          },
          "autotypenumbers": "strict",
          "coloraxis": {
           "colorbar": {
            "outlinewidth": 0,
            "ticks": ""
           }
          },
          "colorscale": {
           "diverging": [
            [
             0,
             "#8e0152"
            ],
            [
             0.1,
             "#c51b7d"
            ],
            [
             0.2,
             "#de77ae"
            ],
            [
             0.3,
             "#f1b6da"
            ],
            [
             0.4,
             "#fde0ef"
            ],
            [
             0.5,
             "#f7f7f7"
            ],
            [
             0.6,
             "#e6f5d0"
            ],
            [
             0.7,
             "#b8e186"
            ],
            [
             0.8,
             "#7fbc41"
            ],
            [
             0.9,
             "#4d9221"
            ],
            [
             1,
             "#276419"
            ]
           ],
           "sequential": [
            [
             0,
             "#0d0887"
            ],
            [
             0.1111111111111111,
             "#46039f"
            ],
            [
             0.2222222222222222,
             "#7201a8"
            ],
            [
             0.3333333333333333,
             "#9c179e"
            ],
            [
             0.4444444444444444,
             "#bd3786"
            ],
            [
             0.5555555555555556,
             "#d8576b"
            ],
            [
             0.6666666666666666,
             "#ed7953"
            ],
            [
             0.7777777777777778,
             "#fb9f3a"
            ],
            [
             0.8888888888888888,
             "#fdca26"
            ],
            [
             1,
             "#f0f921"
            ]
           ],
           "sequentialminus": [
            [
             0,
             "#0d0887"
            ],
            [
             0.1111111111111111,
             "#46039f"
            ],
            [
             0.2222222222222222,
             "#7201a8"
            ],
            [
             0.3333333333333333,
             "#9c179e"
            ],
            [
             0.4444444444444444,
             "#bd3786"
            ],
            [
             0.5555555555555556,
             "#d8576b"
            ],
            [
             0.6666666666666666,
             "#ed7953"
            ],
            [
             0.7777777777777778,
             "#fb9f3a"
            ],
            [
             0.8888888888888888,
             "#fdca26"
            ],
            [
             1,
             "#f0f921"
            ]
           ]
          },
          "colorway": [
           "#636efa",
           "#EF553B",
           "#00cc96",
           "#ab63fa",
           "#FFA15A",
           "#19d3f3",
           "#FF6692",
           "#B6E880",
           "#FF97FF",
           "#FECB52"
          ],
          "font": {
           "color": "#2a3f5f"
          },
          "geo": {
           "bgcolor": "white",
           "lakecolor": "white",
           "landcolor": "#E5ECF6",
           "showlakes": true,
           "showland": true,
           "subunitcolor": "white"
          },
          "hoverlabel": {
           "align": "left"
          },
          "hovermode": "closest",
          "mapbox": {
           "style": "light"
          },
          "paper_bgcolor": "white",
          "plot_bgcolor": "#E5ECF6",
          "polar": {
           "angularaxis": {
            "gridcolor": "white",
            "linecolor": "white",
            "ticks": ""
           },
           "bgcolor": "#E5ECF6",
           "radialaxis": {
            "gridcolor": "white",
            "linecolor": "white",
            "ticks": ""
           }
          },
          "scene": {
           "xaxis": {
            "backgroundcolor": "#E5ECF6",
            "gridcolor": "white",
            "gridwidth": 2,
            "linecolor": "white",
            "showbackground": true,
            "ticks": "",
            "zerolinecolor": "white"
           },
           "yaxis": {
            "backgroundcolor": "#E5ECF6",
            "gridcolor": "white",
            "gridwidth": 2,
            "linecolor": "white",
            "showbackground": true,
            "ticks": "",
            "zerolinecolor": "white"
           },
           "zaxis": {
            "backgroundcolor": "#E5ECF6",
            "gridcolor": "white",
            "gridwidth": 2,
            "linecolor": "white",
            "showbackground": true,
            "ticks": "",
            "zerolinecolor": "white"
           }
          },
          "shapedefaults": {
           "line": {
            "color": "#2a3f5f"
           }
          },
          "ternary": {
           "aaxis": {
            "gridcolor": "white",
            "linecolor": "white",
            "ticks": ""
           },
           "baxis": {
            "gridcolor": "white",
            "linecolor": "white",
            "ticks": ""
           },
           "bgcolor": "#E5ECF6",
           "caxis": {
            "gridcolor": "white",
            "linecolor": "white",
            "ticks": ""
           }
          },
          "title": {
           "x": 0.05
          },
          "xaxis": {
           "automargin": true,
           "gridcolor": "white",
           "linecolor": "white",
           "ticks": "",
           "title": {
            "standoff": 15
           },
           "zerolinecolor": "white",
           "zerolinewidth": 2
          },
          "yaxis": {
           "automargin": true,
           "gridcolor": "white",
           "linecolor": "white",
           "ticks": "",
           "title": {
            "standoff": 15
           },
           "zerolinecolor": "white",
           "zerolinewidth": 2
          }
         }
        },
        "title": {
         "font": {
          "size": 20
         },
         "text": "Overall Churn Distribution",
         "x": 0.5,
         "y": 0.9
        }
       }
      }
     },
     "metadata": {},
     "output_type": "display_data"
    }
   ],
   "source": [
    "# Calculating churn counts\n",
    "churn_counts = df['Churn'].value_counts()\n",
    "\n",
    "# Plotting a pie chart \n",
    "labels = churn_counts.index  # Automatically assign labels based on 'Churn' column\n",
    "colors = [px.colors.qualitative.Pastel1[2], px.colors.qualitative.Pastel1[0]]  \n",
    "\n",
    "fig = px.pie(values=churn_counts, names=labels, \n",
    "             title='Overall Churn Distribution',\n",
    "             color_discrete_sequence=colors,\n",
    "             hole=0.4)  # Donut hole size (0 for pie, <1 for donut)\n",
    "\n",
    "# Showing percentage and label on hover\n",
    "fig.update_traces(textinfo='percent+label')\n",
    "\n",
    "# Centering the title\n",
    "fig.update_layout(title_text='Overall Churn Distribution',\n",
    "                  title_x=0.5,  # Center horizontally\n",
    "                  title_y=0.9,  # Adjust vertical position\n",
    "                  title_font_size=20)  # Adjust font size\n",
    "\n",
    "# Display the plot\n",
    "fig.show()\n",
    "fig.write_html(\"D:\\College\\Placements\\Projects\\Customer_Churn_Analysis\\Interactive Graphs\\overall_churn_distribution.html\")"
   ]
  },
  {
   "cell_type": "markdown",
   "metadata": {},
   "source": [
    "<h3 style=\"color:white; font-weight:bold;\">2. Churn Distribution - Nominal Columns</h3>"
   ]
  },
  {
   "cell_type": "code",
   "execution_count": 9,
   "metadata": {},
   "outputs": [],
   "source": [
    "# Function to split string at capital letters\n",
    "def split_on_capitals(text):\n",
    "    new_text = [text[0]]  \n",
    "    for char in text[1:]:\n",
    "        if char.isupper():\n",
    "            new_text.append(' ')\n",
    "        new_text.append(char)\n",
    "    return ''.join(new_text).title()"
   ]
  },
  {
   "cell_type": "code",
   "execution_count": 13,
   "metadata": {},
   "outputs": [
    {
     "data": {
      "application/vnd.plotly.v1+json": {
       "config": {
        "plotlyServerURL": "https://plot.ly"
       },
       "data": [
        {
         "hoverinfo": "text+y",
         "hovertemplate": "<b>PreferredLoginDevice</b>: %{x}<br>Number of Customers: %{y}<br>Percentage: %{text}",
         "marker": {
          "color": "red",
          "opacity": 0.45
         },
         "name": "Yes",
         "showlegend": true,
         "text": [
          "19.83%",
          "15.62%"
         ],
         "type": "bar",
         "visible": true,
         "x": [
          "Computer",
          "Mobile"
         ],
         "y": [
          324,
          624
         ]
        },
        {
         "hoverinfo": "text+y",
         "hovertemplate": "<b>PreferredLoginDevice</b>: %{x}<br>Number of Customers: %{y}<br>Percentage: %{text}",
         "marker": {
          "color": "lightgreen",
          "opacity": 0.45
         },
         "name": "No",
         "showlegend": true,
         "text": [
          "80.17%",
          "84.38%"
         ],
         "type": "bar",
         "visible": true,
         "x": [
          "Computer",
          "Mobile"
         ],
         "y": [
          1310,
          3372
         ]
        },
        {
         "hoverinfo": "text+y",
         "hovertemplate": "<b>PreferredPaymentMode</b>: %{x}<br>Number of Customers: %{y}<br>Percentage: %{text}",
         "marker": {
          "color": "red",
          "opacity": 0.45
         },
         "name": "Yes",
         "showlegend": true,
         "text": [
          "24.90%",
          "14.21%",
          "15.38%",
          "22.80%",
          "17.39%"
         ],
         "type": "bar",
         "visible": false,
         "x": [
          "Cash on Delivery",
          "Credit Card",
          "Debit Card",
          "E wallet",
          "UPI"
         ],
         "y": [
          128,
          252,
          356,
          140,
          72
         ]
        },
        {
         "hoverinfo": "text+y",
         "hovertemplate": "<b>PreferredPaymentMode</b>: %{x}<br>Number of Customers: %{y}<br>Percentage: %{text}",
         "marker": {
          "color": "lightgreen",
          "opacity": 0.45
         },
         "name": "No",
         "showlegend": true,
         "text": [
          "75.10%",
          "85.79%",
          "84.62%",
          "77.20%",
          "82.61%"
         ],
         "type": "bar",
         "visible": false,
         "x": [
          "Cash on Delivery",
          "Credit Card",
          "Debit Card",
          "E wallet",
          "UPI"
         ],
         "y": [
          386,
          1522,
          1958,
          474,
          342
         ]
        },
        {
         "hoverinfo": "text+y",
         "hovertemplate": "<b>Gender</b>: %{x}<br>Number of Customers: %{y}<br>Percentage: %{text}",
         "marker": {
          "color": "red",
          "opacity": 0.45
         },
         "name": "Yes",
         "showlegend": true,
         "text": [
          "15.49%",
          "17.73%"
         ],
         "type": "bar",
         "visible": false,
         "x": [
          "Female",
          "Male"
         ],
         "y": [
          348,
          600
         ]
        },
        {
         "hoverinfo": "text+y",
         "hovertemplate": "<b>Gender</b>: %{x}<br>Number of Customers: %{y}<br>Percentage: %{text}",
         "marker": {
          "color": "lightgreen",
          "opacity": 0.45
         },
         "name": "No",
         "showlegend": true,
         "text": [
          "84.51%",
          "82.27%"
         ],
         "type": "bar",
         "visible": false,
         "x": [
          "Female",
          "Male"
         ],
         "y": [
          1898,
          2784
         ]
        },
        {
         "hoverinfo": "text+y",
         "hovertemplate": "<b>PreferedOrderCat</b>: %{x}<br>Number of Customers: %{y}<br>Percentage: %{text}",
         "marker": {
          "color": "red",
          "opacity": 0.45
         },
         "name": "Yes",
         "showlegend": true,
         "text": [
          "15.50%",
          "4.88%",
          "10.24%",
          "27.40%",
          "7.58%"
         ],
         "type": "bar",
         "visible": false,
         "x": [
          "Fashion",
          "Grocery",
          "Laptop & Accessory",
          "Mobile",
          "Others"
         ],
         "y": [
          128,
          20,
          210,
          570,
          20
         ]
        },
        {
         "hoverinfo": "text+y",
         "hovertemplate": "<b>PreferedOrderCat</b>: %{x}<br>Number of Customers: %{y}<br>Percentage: %{text}",
         "marker": {
          "color": "lightgreen",
          "opacity": 0.45
         },
         "name": "No",
         "showlegend": true,
         "text": [
          "84.50%",
          "95.12%",
          "89.76%",
          "72.60%",
          "92.42%"
         ],
         "type": "bar",
         "visible": false,
         "x": [
          "Fashion",
          "Grocery",
          "Laptop & Accessory",
          "Mobile",
          "Others"
         ],
         "y": [
          698,
          390,
          1840,
          1510,
          244
         ]
        },
        {
         "hoverinfo": "text+y",
         "hovertemplate": "<b>MaritalStatus</b>: %{x}<br>Number of Customers: %{y}<br>Percentage: %{text}",
         "marker": {
          "color": "red",
          "opacity": 0.45
         },
         "name": "Yes",
         "showlegend": true,
         "text": [
          "14.62%",
          "11.52%",
          "26.73%"
         ],
         "type": "bar",
         "visible": false,
         "x": [
          "Divorced",
          "Married",
          "Single"
         ],
         "y": [
          124,
          344,
          480
         ]
        },
        {
         "hoverinfo": "text+y",
         "hovertemplate": "<b>MaritalStatus</b>: %{x}<br>Number of Customers: %{y}<br>Percentage: %{text}",
         "marker": {
          "color": "lightgreen",
          "opacity": 0.45
         },
         "name": "No",
         "showlegend": true,
         "text": [
          "85.38%",
          "88.48%",
          "73.27%"
         ],
         "type": "bar",
         "visible": false,
         "x": [
          "Divorced",
          "Married",
          "Single"
         ],
         "y": [
          724,
          2642,
          1316
         ]
        }
       ],
       "layout": {
        "barmode": "overlay",
        "legend": {
         "title": {
          "text": "Churn"
         }
        },
        "template": {
         "data": {
          "bar": [
           {
            "error_x": {
             "color": "#2a3f5f"
            },
            "error_y": {
             "color": "#2a3f5f"
            },
            "marker": {
             "line": {
              "color": "#E5ECF6",
              "width": 0.5
             },
             "pattern": {
              "fillmode": "overlay",
              "size": 10,
              "solidity": 0.2
             }
            },
            "type": "bar"
           }
          ],
          "barpolar": [
           {
            "marker": {
             "line": {
              "color": "#E5ECF6",
              "width": 0.5
             },
             "pattern": {
              "fillmode": "overlay",
              "size": 10,
              "solidity": 0.2
             }
            },
            "type": "barpolar"
           }
          ],
          "carpet": [
           {
            "aaxis": {
             "endlinecolor": "#2a3f5f",
             "gridcolor": "white",
             "linecolor": "white",
             "minorgridcolor": "white",
             "startlinecolor": "#2a3f5f"
            },
            "baxis": {
             "endlinecolor": "#2a3f5f",
             "gridcolor": "white",
             "linecolor": "white",
             "minorgridcolor": "white",
             "startlinecolor": "#2a3f5f"
            },
            "type": "carpet"
           }
          ],
          "choropleth": [
           {
            "colorbar": {
             "outlinewidth": 0,
             "ticks": ""
            },
            "type": "choropleth"
           }
          ],
          "contour": [
           {
            "colorbar": {
             "outlinewidth": 0,
             "ticks": ""
            },
            "colorscale": [
             [
              0,
              "#0d0887"
             ],
             [
              0.1111111111111111,
              "#46039f"
             ],
             [
              0.2222222222222222,
              "#7201a8"
             ],
             [
              0.3333333333333333,
              "#9c179e"
             ],
             [
              0.4444444444444444,
              "#bd3786"
             ],
             [
              0.5555555555555556,
              "#d8576b"
             ],
             [
              0.6666666666666666,
              "#ed7953"
             ],
             [
              0.7777777777777778,
              "#fb9f3a"
             ],
             [
              0.8888888888888888,
              "#fdca26"
             ],
             [
              1,
              "#f0f921"
             ]
            ],
            "type": "contour"
           }
          ],
          "contourcarpet": [
           {
            "colorbar": {
             "outlinewidth": 0,
             "ticks": ""
            },
            "type": "contourcarpet"
           }
          ],
          "heatmap": [
           {
            "colorbar": {
             "outlinewidth": 0,
             "ticks": ""
            },
            "colorscale": [
             [
              0,
              "#0d0887"
             ],
             [
              0.1111111111111111,
              "#46039f"
             ],
             [
              0.2222222222222222,
              "#7201a8"
             ],
             [
              0.3333333333333333,
              "#9c179e"
             ],
             [
              0.4444444444444444,
              "#bd3786"
             ],
             [
              0.5555555555555556,
              "#d8576b"
             ],
             [
              0.6666666666666666,
              "#ed7953"
             ],
             [
              0.7777777777777778,
              "#fb9f3a"
             ],
             [
              0.8888888888888888,
              "#fdca26"
             ],
             [
              1,
              "#f0f921"
             ]
            ],
            "type": "heatmap"
           }
          ],
          "heatmapgl": [
           {
            "colorbar": {
             "outlinewidth": 0,
             "ticks": ""
            },
            "colorscale": [
             [
              0,
              "#0d0887"
             ],
             [
              0.1111111111111111,
              "#46039f"
             ],
             [
              0.2222222222222222,
              "#7201a8"
             ],
             [
              0.3333333333333333,
              "#9c179e"
             ],
             [
              0.4444444444444444,
              "#bd3786"
             ],
             [
              0.5555555555555556,
              "#d8576b"
             ],
             [
              0.6666666666666666,
              "#ed7953"
             ],
             [
              0.7777777777777778,
              "#fb9f3a"
             ],
             [
              0.8888888888888888,
              "#fdca26"
             ],
             [
              1,
              "#f0f921"
             ]
            ],
            "type": "heatmapgl"
           }
          ],
          "histogram": [
           {
            "marker": {
             "pattern": {
              "fillmode": "overlay",
              "size": 10,
              "solidity": 0.2
             }
            },
            "type": "histogram"
           }
          ],
          "histogram2d": [
           {
            "colorbar": {
             "outlinewidth": 0,
             "ticks": ""
            },
            "colorscale": [
             [
              0,
              "#0d0887"
             ],
             [
              0.1111111111111111,
              "#46039f"
             ],
             [
              0.2222222222222222,
              "#7201a8"
             ],
             [
              0.3333333333333333,
              "#9c179e"
             ],
             [
              0.4444444444444444,
              "#bd3786"
             ],
             [
              0.5555555555555556,
              "#d8576b"
             ],
             [
              0.6666666666666666,
              "#ed7953"
             ],
             [
              0.7777777777777778,
              "#fb9f3a"
             ],
             [
              0.8888888888888888,
              "#fdca26"
             ],
             [
              1,
              "#f0f921"
             ]
            ],
            "type": "histogram2d"
           }
          ],
          "histogram2dcontour": [
           {
            "colorbar": {
             "outlinewidth": 0,
             "ticks": ""
            },
            "colorscale": [
             [
              0,
              "#0d0887"
             ],
             [
              0.1111111111111111,
              "#46039f"
             ],
             [
              0.2222222222222222,
              "#7201a8"
             ],
             [
              0.3333333333333333,
              "#9c179e"
             ],
             [
              0.4444444444444444,
              "#bd3786"
             ],
             [
              0.5555555555555556,
              "#d8576b"
             ],
             [
              0.6666666666666666,
              "#ed7953"
             ],
             [
              0.7777777777777778,
              "#fb9f3a"
             ],
             [
              0.8888888888888888,
              "#fdca26"
             ],
             [
              1,
              "#f0f921"
             ]
            ],
            "type": "histogram2dcontour"
           }
          ],
          "mesh3d": [
           {
            "colorbar": {
             "outlinewidth": 0,
             "ticks": ""
            },
            "type": "mesh3d"
           }
          ],
          "parcoords": [
           {
            "line": {
             "colorbar": {
              "outlinewidth": 0,
              "ticks": ""
             }
            },
            "type": "parcoords"
           }
          ],
          "pie": [
           {
            "automargin": true,
            "type": "pie"
           }
          ],
          "scatter": [
           {
            "fillpattern": {
             "fillmode": "overlay",
             "size": 10,
             "solidity": 0.2
            },
            "type": "scatter"
           }
          ],
          "scatter3d": [
           {
            "line": {
             "colorbar": {
              "outlinewidth": 0,
              "ticks": ""
             }
            },
            "marker": {
             "colorbar": {
              "outlinewidth": 0,
              "ticks": ""
             }
            },
            "type": "scatter3d"
           }
          ],
          "scattercarpet": [
           {
            "marker": {
             "colorbar": {
              "outlinewidth": 0,
              "ticks": ""
             }
            },
            "type": "scattercarpet"
           }
          ],
          "scattergeo": [
           {
            "marker": {
             "colorbar": {
              "outlinewidth": 0,
              "ticks": ""
             }
            },
            "type": "scattergeo"
           }
          ],
          "scattergl": [
           {
            "marker": {
             "colorbar": {
              "outlinewidth": 0,
              "ticks": ""
             }
            },
            "type": "scattergl"
           }
          ],
          "scattermapbox": [
           {
            "marker": {
             "colorbar": {
              "outlinewidth": 0,
              "ticks": ""
             }
            },
            "type": "scattermapbox"
           }
          ],
          "scatterpolar": [
           {
            "marker": {
             "colorbar": {
              "outlinewidth": 0,
              "ticks": ""
             }
            },
            "type": "scatterpolar"
           }
          ],
          "scatterpolargl": [
           {
            "marker": {
             "colorbar": {
              "outlinewidth": 0,
              "ticks": ""
             }
            },
            "type": "scatterpolargl"
           }
          ],
          "scatterternary": [
           {
            "marker": {
             "colorbar": {
              "outlinewidth": 0,
              "ticks": ""
             }
            },
            "type": "scatterternary"
           }
          ],
          "surface": [
           {
            "colorbar": {
             "outlinewidth": 0,
             "ticks": ""
            },
            "colorscale": [
             [
              0,
              "#0d0887"
             ],
             [
              0.1111111111111111,
              "#46039f"
             ],
             [
              0.2222222222222222,
              "#7201a8"
             ],
             [
              0.3333333333333333,
              "#9c179e"
             ],
             [
              0.4444444444444444,
              "#bd3786"
             ],
             [
              0.5555555555555556,
              "#d8576b"
             ],
             [
              0.6666666666666666,
              "#ed7953"
             ],
             [
              0.7777777777777778,
              "#fb9f3a"
             ],
             [
              0.8888888888888888,
              "#fdca26"
             ],
             [
              1,
              "#f0f921"
             ]
            ],
            "type": "surface"
           }
          ],
          "table": [
           {
            "cells": {
             "fill": {
              "color": "#EBF0F8"
             },
             "line": {
              "color": "white"
             }
            },
            "header": {
             "fill": {
              "color": "#C8D4E3"
             },
             "line": {
              "color": "white"
             }
            },
            "type": "table"
           }
          ]
         },
         "layout": {
          "annotationdefaults": {
           "arrowcolor": "#2a3f5f",
           "arrowhead": 0,
           "arrowwidth": 1
          },
          "autotypenumbers": "strict",
          "coloraxis": {
           "colorbar": {
            "outlinewidth": 0,
            "ticks": ""
           }
          },
          "colorscale": {
           "diverging": [
            [
             0,
             "#8e0152"
            ],
            [
             0.1,
             "#c51b7d"
            ],
            [
             0.2,
             "#de77ae"
            ],
            [
             0.3,
             "#f1b6da"
            ],
            [
             0.4,
             "#fde0ef"
            ],
            [
             0.5,
             "#f7f7f7"
            ],
            [
             0.6,
             "#e6f5d0"
            ],
            [
             0.7,
             "#b8e186"
            ],
            [
             0.8,
             "#7fbc41"
            ],
            [
             0.9,
             "#4d9221"
            ],
            [
             1,
             "#276419"
            ]
           ],
           "sequential": [
            [
             0,
             "#0d0887"
            ],
            [
             0.1111111111111111,
             "#46039f"
            ],
            [
             0.2222222222222222,
             "#7201a8"
            ],
            [
             0.3333333333333333,
             "#9c179e"
            ],
            [
             0.4444444444444444,
             "#bd3786"
            ],
            [
             0.5555555555555556,
             "#d8576b"
            ],
            [
             0.6666666666666666,
             "#ed7953"
            ],
            [
             0.7777777777777778,
             "#fb9f3a"
            ],
            [
             0.8888888888888888,
             "#fdca26"
            ],
            [
             1,
             "#f0f921"
            ]
           ],
           "sequentialminus": [
            [
             0,
             "#0d0887"
            ],
            [
             0.1111111111111111,
             "#46039f"
            ],
            [
             0.2222222222222222,
             "#7201a8"
            ],
            [
             0.3333333333333333,
             "#9c179e"
            ],
            [
             0.4444444444444444,
             "#bd3786"
            ],
            [
             0.5555555555555556,
             "#d8576b"
            ],
            [
             0.6666666666666666,
             "#ed7953"
            ],
            [
             0.7777777777777778,
             "#fb9f3a"
            ],
            [
             0.8888888888888888,
             "#fdca26"
            ],
            [
             1,
             "#f0f921"
            ]
           ]
          },
          "colorway": [
           "#636efa",
           "#EF553B",
           "#00cc96",
           "#ab63fa",
           "#FFA15A",
           "#19d3f3",
           "#FF6692",
           "#B6E880",
           "#FF97FF",
           "#FECB52"
          ],
          "font": {
           "color": "#2a3f5f"
          },
          "geo": {
           "bgcolor": "white",
           "lakecolor": "white",
           "landcolor": "#E5ECF6",
           "showlakes": true,
           "showland": true,
           "subunitcolor": "white"
          },
          "hoverlabel": {
           "align": "left"
          },
          "hovermode": "closest",
          "mapbox": {
           "style": "light"
          },
          "paper_bgcolor": "white",
          "plot_bgcolor": "#E5ECF6",
          "polar": {
           "angularaxis": {
            "gridcolor": "white",
            "linecolor": "white",
            "ticks": ""
           },
           "bgcolor": "#E5ECF6",
           "radialaxis": {
            "gridcolor": "white",
            "linecolor": "white",
            "ticks": ""
           }
          },
          "scene": {
           "xaxis": {
            "backgroundcolor": "#E5ECF6",
            "gridcolor": "white",
            "gridwidth": 2,
            "linecolor": "white",
            "showbackground": true,
            "ticks": "",
            "zerolinecolor": "white"
           },
           "yaxis": {
            "backgroundcolor": "#E5ECF6",
            "gridcolor": "white",
            "gridwidth": 2,
            "linecolor": "white",
            "showbackground": true,
            "ticks": "",
            "zerolinecolor": "white"
           },
           "zaxis": {
            "backgroundcolor": "#E5ECF6",
            "gridcolor": "white",
            "gridwidth": 2,
            "linecolor": "white",
            "showbackground": true,
            "ticks": "",
            "zerolinecolor": "white"
           }
          },
          "shapedefaults": {
           "line": {
            "color": "#2a3f5f"
           }
          },
          "ternary": {
           "aaxis": {
            "gridcolor": "white",
            "linecolor": "white",
            "ticks": ""
           },
           "baxis": {
            "gridcolor": "white",
            "linecolor": "white",
            "ticks": ""
           },
           "bgcolor": "#E5ECF6",
           "caxis": {
            "gridcolor": "white",
            "linecolor": "white",
            "ticks": ""
           }
          },
          "title": {
           "x": 0.05
          },
          "xaxis": {
           "automargin": true,
           "gridcolor": "white",
           "linecolor": "white",
           "ticks": "",
           "title": {
            "standoff": 15
           },
           "zerolinecolor": "white",
           "zerolinewidth": 2
          },
          "yaxis": {
           "automargin": true,
           "gridcolor": "white",
           "linecolor": "white",
           "ticks": "",
           "title": {
            "standoff": 15
           },
           "zerolinecolor": "white",
           "zerolinewidth": 2
          }
         }
        },
        "title": {
         "text": "Preferred Login Device by Churn"
        },
        "updatemenus": [
         {
          "active": 0,
          "buttons": [
           {
            "args": [
             {
              "visible": [
               true,
               true,
               false,
               false,
               false,
               false,
               false,
               false,
               false,
               false
              ]
             },
             {
              "title": "Preferred Login Device by Churn Status",
              "xaxis": {
               "title": "Preferred Login Device"
              }
             }
            ],
            "label": "Preferred Login Device",
            "method": "update"
           },
           {
            "args": [
             {
              "visible": [
               false,
               false,
               true,
               true,
               false,
               false,
               false,
               false,
               false,
               false
              ]
             },
             {
              "title": "Preferred Payment Mode by Churn Status",
              "xaxis": {
               "title": "Preferred Payment Mode"
              }
             }
            ],
            "label": "Preferred Payment Mode",
            "method": "update"
           },
           {
            "args": [
             {
              "visible": [
               false,
               false,
               false,
               false,
               true,
               true,
               false,
               false,
               false,
               false
              ]
             },
             {
              "title": "Gender by Churn Status",
              "xaxis": {
               "title": "Gender"
              }
             }
            ],
            "label": "Gender",
            "method": "update"
           },
           {
            "args": [
             {
              "visible": [
               false,
               false,
               false,
               false,
               false,
               false,
               true,
               true,
               false,
               false
              ]
             },
             {
              "title": "Prefered Order Cat by Churn Status",
              "xaxis": {
               "title": "Prefered Order Cat"
              }
             }
            ],
            "label": "Prefered Order Cat",
            "method": "update"
           },
           {
            "args": [
             {
              "visible": [
               false,
               false,
               false,
               false,
               false,
               false,
               false,
               false,
               true,
               true
              ]
             },
             {
              "title": "Marital Status by Churn Status",
              "xaxis": {
               "title": "Marital Status"
              }
             }
            ],
            "label": "Marital Status",
            "method": "update"
           }
          ],
          "direction": "down",
          "pad": {
           "r": 10,
           "t": 10
          },
          "showactive": true,
          "x": 0.8,
          "xanchor": "left",
          "y": 1.22,
          "yanchor": "top"
         }
        ],
        "xaxis": {
         "title": {
          "text": "Preferred Login Device"
         }
        },
        "yaxis": {
         "title": {
          "text": "Number of Customers"
         }
        }
       }
      }
     },
     "metadata": {},
     "output_type": "display_data"
    }
   ],
   "source": [
    "# Initialize a figure\n",
    "fig = go.Figure()\n",
    "\n",
    "# Loop through each object column and create a bar chart\n",
    "for column in object_columns:\n",
    "    # Count the occurrences of each category and churn combination\n",
    "    counts = df.groupby([column, 'Churn']).size().reset_index(name='count')\n",
    "    counts = counts.sort_values(by='count', ascending=False)\n",
    "\n",
    "    # Calculate total counts for each category\n",
    "    totals = counts.groupby(column)['count'].sum().reset_index(name='total_count')\n",
    "    counts = pd.merge(counts, totals, on=column, suffixes=('', '_total'))\n",
    "    counts['percentage'] = (counts['count'] / counts['total_count']) * 100\n",
    "    counts['percentage'] = counts['percentage'].apply(lambda x: f\"{x:.2f}\")\n",
    "    counts = counts.sort_values(by=[column, 'Churn'], ascending=[True, False])\n",
    "\n",
    "    # Create a bar chart for the current column\n",
    "    for churn_value in counts['Churn'].unique():\n",
    "        churn_counts = counts[counts['Churn'] == churn_value]\n",
    "        fig.add_trace(\n",
    "            go.Bar(\n",
    "                x=churn_counts[column],\n",
    "                y=churn_counts['count'],\n",
    "                name='Yes' if churn_value == True else 'No',\n",
    "                text=churn_counts['percentage'] + '%',\n",
    "                hoverinfo='text+y',\n",
    "                marker=dict(color='red' if churn_value == True else 'lightgreen', opacity=0.45),\n",
    "                hovertemplate=(\n",
    "                    f'<b>{column}</b>: %{{x}}<br>' +\n",
    "                    'Number of Customers: %{y}<br>' +\n",
    "                    'Percentage: %{text}'\n",
    "                ),\n",
    "                visible=False,\n",
    "                showlegend=True\n",
    "            )\n",
    "        )\n",
    "\n",
    "# Make the first set of traces (one for each Churn value) visible by default\n",
    "num_churn_values = len(df['Churn'].unique())\n",
    "for trace in fig.data[:num_churn_values]:\n",
    "    trace.visible = True\n",
    "\n",
    "# Create dropdown buttons for each trace\n",
    "buttons = []\n",
    "for i, column in enumerate(object_columns):\n",
    "    visibility = [False] * len(fig.data)\n",
    "    start_idx = i * num_churn_values\n",
    "    for j in range(num_churn_values):\n",
    "        visibility[start_idx + j] = True\n",
    "    buttons.append(dict(\n",
    "        method='update',\n",
    "        label=split_on_capitals(column),\n",
    "        args=[{'visible': visibility},\n",
    "              {'title': f'{split_on_capitals(column)} by Churn Status',\n",
    "               'xaxis': {'title': split_on_capitals(column)}}]  # Update x-axis title dynamically\n",
    "               ))\n",
    "\n",
    "# Add dropdown menu to the layout\n",
    "fig.update_layout(\n",
    "    updatemenus=[dict(\n",
    "        buttons=buttons,\n",
    "        direction=\"down\",\n",
    "        pad={\"r\": 10, \"t\": 10},\n",
    "        showactive=True,\n",
    "        active=0,\n",
    "        x=0.80,\n",
    "        xanchor='left',\n",
    "        y=1.22,\n",
    "        yanchor='top'\n",
    "    )],\n",
    "    title=f'{split_on_capitals(object_columns[0])} by Churn',\n",
    "    xaxis_title=split_on_capitals(object_columns[0]),  \n",
    "    yaxis_title='Number of Customers',\n",
    "    barmode='overlay',\n",
    "    legend=dict(\n",
    "        title='Churn'\n",
    "    )\n",
    ")\n",
    "\n",
    "# Display the plot\n",
    "fig.show()\n",
    "fig.write_html(\"D:\\College\\Placements\\Projects\\Customer_Churn_Analysis\\Interactive Graphs\\churn_distribution_nominal_columns.html\")\n"
   ]
  },
  {
   "cell_type": "markdown",
   "metadata": {},
   "source": [
    "<h3 style=\"color:white; font-weight:bold;\">2. Churn Distribution - Ordinal Columns</h3>"
   ]
  },
  {
   "cell_type": "code",
   "execution_count": 12,
   "metadata": {},
   "outputs": [
    {
     "data": {
      "application/vnd.plotly.v1+json": {
       "config": {
        "plotlyServerURL": "https://plot.ly"
       },
       "data": [
        {
         "customdata": [
          [
           532
          ],
          [
           48
          ],
          [
           368
          ]
         ],
         "hoverinfo": "text+y",
         "hovertemplate": "<b>CityTier</b>: %{x}<br>Percentage: %{y:.2f}%<br>Count: %{customdata[0]}<br>",
         "marker": {
          "color": "red",
          "opacity": 0.5
         },
         "name": "Yes",
         "showlegend": true,
         "text": [
          "14.51%",
          "19.83%",
          "21.37%"
         ],
         "type": "bar",
         "visible": true,
         "x": [
          1,
          2,
          3
         ],
         "y": [
          14.51,
          19.83,
          21.37
         ]
        },
        {
         "customdata": [
          [
           3134
          ],
          [
           194
          ],
          [
           1354
          ]
         ],
         "hoverinfo": "text+y",
         "hovertemplate": "<b>CityTier</b>: %{x}<br>Percentage: %{y:.2f}%<br>Count: %{customdata[0]}<br>",
         "marker": {
          "color": "lightgreen",
          "opacity": 0.5
         },
         "name": "No",
         "showlegend": true,
         "text": [
          "85.49%",
          "80.17%",
          "78.63%"
         ],
         "type": "bar",
         "visible": true,
         "x": [
          1,
          2,
          3
         ],
         "y": [
          85.49,
          80.17,
          78.63
         ]
        },
        {
         "customdata": [
          [
           134
          ],
          [
           74
          ],
          [
           292
          ],
          [
           184
          ],
          [
           264
          ]
         ],
         "hoverinfo": "text+y",
         "hovertemplate": "<b>SatisfactionScore</b>: %{x}<br>Percentage: %{y:.2f}%<br>Count: %{customdata[0]}<br>",
         "marker": {
          "color": "red",
          "opacity": 0.5
         },
         "name": "Yes",
         "showlegend": true,
         "text": [
          "11.51%",
          "12.63%",
          "17.20%",
          "17.13%",
          "23.83%"
         ],
         "type": "bar",
         "visible": false,
         "x": [
          1,
          2,
          3,
          4,
          5
         ],
         "y": [
          11.51,
          12.63,
          17.2,
          17.13,
          23.83
         ]
        },
        {
         "customdata": [
          [
           1030
          ],
          [
           512
          ],
          [
           1406
          ],
          [
           890
          ],
          [
           844
          ]
         ],
         "hoverinfo": "text+y",
         "hovertemplate": "<b>SatisfactionScore</b>: %{x}<br>Percentage: %{y:.2f}%<br>Count: %{customdata[0]}<br>",
         "marker": {
          "color": "lightgreen",
          "opacity": 0.5
         },
         "name": "No",
         "showlegend": true,
         "text": [
          "88.49%",
          "87.37%",
          "82.80%",
          "82.87%",
          "76.17%"
         ],
         "type": "bar",
         "visible": false,
         "x": [
          1,
          2,
          3,
          4,
          5
         ],
         "y": [
          88.49,
          87.37,
          82.8,
          82.87,
          76.17
         ]
        },
        {
         "customdata": [
          [
           440
          ],
          [
           508
          ]
         ],
         "hoverinfo": "text+y",
         "hovertemplate": "<b>Complain</b>: %{x}<br>Percentage: %{y:.2f}%<br>Count: %{customdata[0]}<br>",
         "marker": {
          "color": "red",
          "opacity": 0.5
         },
         "name": "Yes",
         "showlegend": true,
         "text": [
          "10.93%",
          "31.67%"
         ],
         "type": "bar",
         "visible": false,
         "x": [
          0,
          1
         ],
         "y": [
          10.93,
          31.67
         ]
        },
        {
         "customdata": [
          [
           3586
          ],
          [
           1096
          ]
         ],
         "hoverinfo": "text+y",
         "hovertemplate": "<b>Complain</b>: %{x}<br>Percentage: %{y:.2f}%<br>Count: %{customdata[0]}<br>",
         "marker": {
          "color": "lightgreen",
          "opacity": 0.5
         },
         "name": "No",
         "showlegend": true,
         "text": [
          "89.07%",
          "68.33%"
         ],
         "type": "bar",
         "visible": false,
         "x": [
          0,
          1
         ],
         "y": [
          89.07,
          68.33
         ]
        }
       ],
       "layout": {
        "barmode": "group",
        "legend": {
         "title": {
          "text": "Churn"
         }
        },
        "template": {
         "data": {
          "bar": [
           {
            "error_x": {
             "color": "#2a3f5f"
            },
            "error_y": {
             "color": "#2a3f5f"
            },
            "marker": {
             "line": {
              "color": "#E5ECF6",
              "width": 0.5
             },
             "pattern": {
              "fillmode": "overlay",
              "size": 10,
              "solidity": 0.2
             }
            },
            "type": "bar"
           }
          ],
          "barpolar": [
           {
            "marker": {
             "line": {
              "color": "#E5ECF6",
              "width": 0.5
             },
             "pattern": {
              "fillmode": "overlay",
              "size": 10,
              "solidity": 0.2
             }
            },
            "type": "barpolar"
           }
          ],
          "carpet": [
           {
            "aaxis": {
             "endlinecolor": "#2a3f5f",
             "gridcolor": "white",
             "linecolor": "white",
             "minorgridcolor": "white",
             "startlinecolor": "#2a3f5f"
            },
            "baxis": {
             "endlinecolor": "#2a3f5f",
             "gridcolor": "white",
             "linecolor": "white",
             "minorgridcolor": "white",
             "startlinecolor": "#2a3f5f"
            },
            "type": "carpet"
           }
          ],
          "choropleth": [
           {
            "colorbar": {
             "outlinewidth": 0,
             "ticks": ""
            },
            "type": "choropleth"
           }
          ],
          "contour": [
           {
            "colorbar": {
             "outlinewidth": 0,
             "ticks": ""
            },
            "colorscale": [
             [
              0,
              "#0d0887"
             ],
             [
              0.1111111111111111,
              "#46039f"
             ],
             [
              0.2222222222222222,
              "#7201a8"
             ],
             [
              0.3333333333333333,
              "#9c179e"
             ],
             [
              0.4444444444444444,
              "#bd3786"
             ],
             [
              0.5555555555555556,
              "#d8576b"
             ],
             [
              0.6666666666666666,
              "#ed7953"
             ],
             [
              0.7777777777777778,
              "#fb9f3a"
             ],
             [
              0.8888888888888888,
              "#fdca26"
             ],
             [
              1,
              "#f0f921"
             ]
            ],
            "type": "contour"
           }
          ],
          "contourcarpet": [
           {
            "colorbar": {
             "outlinewidth": 0,
             "ticks": ""
            },
            "type": "contourcarpet"
           }
          ],
          "heatmap": [
           {
            "colorbar": {
             "outlinewidth": 0,
             "ticks": ""
            },
            "colorscale": [
             [
              0,
              "#0d0887"
             ],
             [
              0.1111111111111111,
              "#46039f"
             ],
             [
              0.2222222222222222,
              "#7201a8"
             ],
             [
              0.3333333333333333,
              "#9c179e"
             ],
             [
              0.4444444444444444,
              "#bd3786"
             ],
             [
              0.5555555555555556,
              "#d8576b"
             ],
             [
              0.6666666666666666,
              "#ed7953"
             ],
             [
              0.7777777777777778,
              "#fb9f3a"
             ],
             [
              0.8888888888888888,
              "#fdca26"
             ],
             [
              1,
              "#f0f921"
             ]
            ],
            "type": "heatmap"
           }
          ],
          "heatmapgl": [
           {
            "colorbar": {
             "outlinewidth": 0,
             "ticks": ""
            },
            "colorscale": [
             [
              0,
              "#0d0887"
             ],
             [
              0.1111111111111111,
              "#46039f"
             ],
             [
              0.2222222222222222,
              "#7201a8"
             ],
             [
              0.3333333333333333,
              "#9c179e"
             ],
             [
              0.4444444444444444,
              "#bd3786"
             ],
             [
              0.5555555555555556,
              "#d8576b"
             ],
             [
              0.6666666666666666,
              "#ed7953"
             ],
             [
              0.7777777777777778,
              "#fb9f3a"
             ],
             [
              0.8888888888888888,
              "#fdca26"
             ],
             [
              1,
              "#f0f921"
             ]
            ],
            "type": "heatmapgl"
           }
          ],
          "histogram": [
           {
            "marker": {
             "pattern": {
              "fillmode": "overlay",
              "size": 10,
              "solidity": 0.2
             }
            },
            "type": "histogram"
           }
          ],
          "histogram2d": [
           {
            "colorbar": {
             "outlinewidth": 0,
             "ticks": ""
            },
            "colorscale": [
             [
              0,
              "#0d0887"
             ],
             [
              0.1111111111111111,
              "#46039f"
             ],
             [
              0.2222222222222222,
              "#7201a8"
             ],
             [
              0.3333333333333333,
              "#9c179e"
             ],
             [
              0.4444444444444444,
              "#bd3786"
             ],
             [
              0.5555555555555556,
              "#d8576b"
             ],
             [
              0.6666666666666666,
              "#ed7953"
             ],
             [
              0.7777777777777778,
              "#fb9f3a"
             ],
             [
              0.8888888888888888,
              "#fdca26"
             ],
             [
              1,
              "#f0f921"
             ]
            ],
            "type": "histogram2d"
           }
          ],
          "histogram2dcontour": [
           {
            "colorbar": {
             "outlinewidth": 0,
             "ticks": ""
            },
            "colorscale": [
             [
              0,
              "#0d0887"
             ],
             [
              0.1111111111111111,
              "#46039f"
             ],
             [
              0.2222222222222222,
              "#7201a8"
             ],
             [
              0.3333333333333333,
              "#9c179e"
             ],
             [
              0.4444444444444444,
              "#bd3786"
             ],
             [
              0.5555555555555556,
              "#d8576b"
             ],
             [
              0.6666666666666666,
              "#ed7953"
             ],
             [
              0.7777777777777778,
              "#fb9f3a"
             ],
             [
              0.8888888888888888,
              "#fdca26"
             ],
             [
              1,
              "#f0f921"
             ]
            ],
            "type": "histogram2dcontour"
           }
          ],
          "mesh3d": [
           {
            "colorbar": {
             "outlinewidth": 0,
             "ticks": ""
            },
            "type": "mesh3d"
           }
          ],
          "parcoords": [
           {
            "line": {
             "colorbar": {
              "outlinewidth": 0,
              "ticks": ""
             }
            },
            "type": "parcoords"
           }
          ],
          "pie": [
           {
            "automargin": true,
            "type": "pie"
           }
          ],
          "scatter": [
           {
            "fillpattern": {
             "fillmode": "overlay",
             "size": 10,
             "solidity": 0.2
            },
            "type": "scatter"
           }
          ],
          "scatter3d": [
           {
            "line": {
             "colorbar": {
              "outlinewidth": 0,
              "ticks": ""
             }
            },
            "marker": {
             "colorbar": {
              "outlinewidth": 0,
              "ticks": ""
             }
            },
            "type": "scatter3d"
           }
          ],
          "scattercarpet": [
           {
            "marker": {
             "colorbar": {
              "outlinewidth": 0,
              "ticks": ""
             }
            },
            "type": "scattercarpet"
           }
          ],
          "scattergeo": [
           {
            "marker": {
             "colorbar": {
              "outlinewidth": 0,
              "ticks": ""
             }
            },
            "type": "scattergeo"
           }
          ],
          "scattergl": [
           {
            "marker": {
             "colorbar": {
              "outlinewidth": 0,
              "ticks": ""
             }
            },
            "type": "scattergl"
           }
          ],
          "scattermapbox": [
           {
            "marker": {
             "colorbar": {
              "outlinewidth": 0,
              "ticks": ""
             }
            },
            "type": "scattermapbox"
           }
          ],
          "scatterpolar": [
           {
            "marker": {
             "colorbar": {
              "outlinewidth": 0,
              "ticks": ""
             }
            },
            "type": "scatterpolar"
           }
          ],
          "scatterpolargl": [
           {
            "marker": {
             "colorbar": {
              "outlinewidth": 0,
              "ticks": ""
             }
            },
            "type": "scatterpolargl"
           }
          ],
          "scatterternary": [
           {
            "marker": {
             "colorbar": {
              "outlinewidth": 0,
              "ticks": ""
             }
            },
            "type": "scatterternary"
           }
          ],
          "surface": [
           {
            "colorbar": {
             "outlinewidth": 0,
             "ticks": ""
            },
            "colorscale": [
             [
              0,
              "#0d0887"
             ],
             [
              0.1111111111111111,
              "#46039f"
             ],
             [
              0.2222222222222222,
              "#7201a8"
             ],
             [
              0.3333333333333333,
              "#9c179e"
             ],
             [
              0.4444444444444444,
              "#bd3786"
             ],
             [
              0.5555555555555556,
              "#d8576b"
             ],
             [
              0.6666666666666666,
              "#ed7953"
             ],
             [
              0.7777777777777778,
              "#fb9f3a"
             ],
             [
              0.8888888888888888,
              "#fdca26"
             ],
             [
              1,
              "#f0f921"
             ]
            ],
            "type": "surface"
           }
          ],
          "table": [
           {
            "cells": {
             "fill": {
              "color": "#EBF0F8"
             },
             "line": {
              "color": "white"
             }
            },
            "header": {
             "fill": {
              "color": "#C8D4E3"
             },
             "line": {
              "color": "white"
             }
            },
            "type": "table"
           }
          ]
         },
         "layout": {
          "annotationdefaults": {
           "arrowcolor": "#2a3f5f",
           "arrowhead": 0,
           "arrowwidth": 1
          },
          "autotypenumbers": "strict",
          "coloraxis": {
           "colorbar": {
            "outlinewidth": 0,
            "ticks": ""
           }
          },
          "colorscale": {
           "diverging": [
            [
             0,
             "#8e0152"
            ],
            [
             0.1,
             "#c51b7d"
            ],
            [
             0.2,
             "#de77ae"
            ],
            [
             0.3,
             "#f1b6da"
            ],
            [
             0.4,
             "#fde0ef"
            ],
            [
             0.5,
             "#f7f7f7"
            ],
            [
             0.6,
             "#e6f5d0"
            ],
            [
             0.7,
             "#b8e186"
            ],
            [
             0.8,
             "#7fbc41"
            ],
            [
             0.9,
             "#4d9221"
            ],
            [
             1,
             "#276419"
            ]
           ],
           "sequential": [
            [
             0,
             "#0d0887"
            ],
            [
             0.1111111111111111,
             "#46039f"
            ],
            [
             0.2222222222222222,
             "#7201a8"
            ],
            [
             0.3333333333333333,
             "#9c179e"
            ],
            [
             0.4444444444444444,
             "#bd3786"
            ],
            [
             0.5555555555555556,
             "#d8576b"
            ],
            [
             0.6666666666666666,
             "#ed7953"
            ],
            [
             0.7777777777777778,
             "#fb9f3a"
            ],
            [
             0.8888888888888888,
             "#fdca26"
            ],
            [
             1,
             "#f0f921"
            ]
           ],
           "sequentialminus": [
            [
             0,
             "#0d0887"
            ],
            [
             0.1111111111111111,
             "#46039f"
            ],
            [
             0.2222222222222222,
             "#7201a8"
            ],
            [
             0.3333333333333333,
             "#9c179e"
            ],
            [
             0.4444444444444444,
             "#bd3786"
            ],
            [
             0.5555555555555556,
             "#d8576b"
            ],
            [
             0.6666666666666666,
             "#ed7953"
            ],
            [
             0.7777777777777778,
             "#fb9f3a"
            ],
            [
             0.8888888888888888,
             "#fdca26"
            ],
            [
             1,
             "#f0f921"
            ]
           ]
          },
          "colorway": [
           "#636efa",
           "#EF553B",
           "#00cc96",
           "#ab63fa",
           "#FFA15A",
           "#19d3f3",
           "#FF6692",
           "#B6E880",
           "#FF97FF",
           "#FECB52"
          ],
          "font": {
           "color": "#2a3f5f"
          },
          "geo": {
           "bgcolor": "white",
           "lakecolor": "white",
           "landcolor": "#E5ECF6",
           "showlakes": true,
           "showland": true,
           "subunitcolor": "white"
          },
          "hoverlabel": {
           "align": "left"
          },
          "hovermode": "closest",
          "mapbox": {
           "style": "light"
          },
          "paper_bgcolor": "white",
          "plot_bgcolor": "#E5ECF6",
          "polar": {
           "angularaxis": {
            "gridcolor": "white",
            "linecolor": "white",
            "ticks": ""
           },
           "bgcolor": "#E5ECF6",
           "radialaxis": {
            "gridcolor": "white",
            "linecolor": "white",
            "ticks": ""
           }
          },
          "scene": {
           "xaxis": {
            "backgroundcolor": "#E5ECF6",
            "gridcolor": "white",
            "gridwidth": 2,
            "linecolor": "white",
            "showbackground": true,
            "ticks": "",
            "zerolinecolor": "white"
           },
           "yaxis": {
            "backgroundcolor": "#E5ECF6",
            "gridcolor": "white",
            "gridwidth": 2,
            "linecolor": "white",
            "showbackground": true,
            "ticks": "",
            "zerolinecolor": "white"
           },
           "zaxis": {
            "backgroundcolor": "#E5ECF6",
            "gridcolor": "white",
            "gridwidth": 2,
            "linecolor": "white",
            "showbackground": true,
            "ticks": "",
            "zerolinecolor": "white"
           }
          },
          "shapedefaults": {
           "line": {
            "color": "#2a3f5f"
           }
          },
          "ternary": {
           "aaxis": {
            "gridcolor": "white",
            "linecolor": "white",
            "ticks": ""
           },
           "baxis": {
            "gridcolor": "white",
            "linecolor": "white",
            "ticks": ""
           },
           "bgcolor": "#E5ECF6",
           "caxis": {
            "gridcolor": "white",
            "linecolor": "white",
            "ticks": ""
           }
          },
          "title": {
           "x": 0.05
          },
          "xaxis": {
           "automargin": true,
           "gridcolor": "white",
           "linecolor": "white",
           "ticks": "",
           "title": {
            "standoff": 15
           },
           "zerolinecolor": "white",
           "zerolinewidth": 2
          },
          "yaxis": {
           "automargin": true,
           "gridcolor": "white",
           "linecolor": "white",
           "ticks": "",
           "title": {
            "standoff": 15
           },
           "zerolinecolor": "white",
           "zerolinewidth": 2
          }
         }
        },
        "title": {
         "text": "City Tier by Churn Status"
        },
        "updatemenus": [
         {
          "active": 0,
          "buttons": [
           {
            "args": [
             {
              "visible": [
               true,
               true,
               false,
               false,
               false,
               false
              ]
             },
             {
              "title": "City Tier by Churn Status",
              "xaxis": {
               "title": "City Tier"
              },
              "yaxis_title": "Percentage"
             }
            ],
            "label": "City Tier",
            "method": "update"
           },
           {
            "args": [
             {
              "visible": [
               false,
               false,
               true,
               true,
               false,
               false
              ]
             },
             {
              "title": "Satisfaction Score by Churn Status",
              "xaxis": {
               "title": "Satisfaction Score"
              },
              "yaxis_title": "Percentage"
             }
            ],
            "label": "Satisfaction Score",
            "method": "update"
           },
           {
            "args": [
             {
              "visible": [
               false,
               false,
               false,
               false,
               true,
               true
              ]
             },
             {
              "title": "Complain by Churn Status",
              "xaxis": {
               "title": "Complain"
              },
              "yaxis_title": "Percentage"
             }
            ],
            "label": "Complain",
            "method": "update"
           }
          ],
          "direction": "down",
          "pad": {
           "r": 10,
           "t": 10
          },
          "showactive": true,
          "x": 0.8,
          "xanchor": "left",
          "y": 1.22,
          "yanchor": "top"
         }
        ],
        "xaxis": {
         "title": {
          "text": "City Tier"
         }
        },
        "yaxis": {
         "title": {
          "text": "Percentage"
         }
        }
       }
      }
     },
     "metadata": {},
     "output_type": "display_data"
    }
   ],
   "source": [
    "# Initialize a figure\n",
    "fig = go.Figure()\n",
    "\n",
    "# Loop through each ordinal column and create a bar chart\n",
    "for column in ordinal_columns:\n",
    "    # Count the occurrences of each category and churn combination\n",
    "    counts = df.groupby([column, 'Churn']).size().reset_index(name='count')\n",
    "    counts = counts.sort_values(by='count', ascending=False)\n",
    "\n",
    "    # Calculate total counts for each category\n",
    "    totals = counts.groupby(column)['count'].sum().reset_index(name='total_count')\n",
    "    counts = pd.merge(counts, totals, on=column, suffixes=('', '_total'))\n",
    "    counts['percentage'] = (counts['count'] / counts['total_count']) * 100\n",
    "    counts['percentage'] = counts['percentage'].apply(lambda x: f\"{x:.2f}\")\n",
    "    counts = counts.sort_values(by=[column, 'Churn'], ascending=[True, False])\n",
    "\n",
    "    # Create a bar chart for the current column\n",
    "    for churn_value in counts['Churn'].unique():\n",
    "        churn_counts = counts[counts['Churn'] == churn_value]\n",
    "        fig.add_trace(\n",
    "            go.Bar(\n",
    "                x=churn_counts[column],\n",
    "                y=churn_counts['percentage'].astype(float),  # Use percentage for y-values\n",
    "                name='Yes' if churn_value else 'No',  # Show 'Yes' or 'No' in the legend\n",
    "                text=churn_counts['percentage'] + '%',\n",
    "                customdata=churn_counts[['count']].values,  # Pass count values as customdata\n",
    "                hoverinfo='text+y',\n",
    "                hovertemplate=(\n",
    "                    f'<b>{column}</b>: %{{x}}<br>' +\n",
    "                    'Percentage: %{y:.2f}%<br>' + \n",
    "                    'Count: %{customdata[0]}<br>'  # Display count from customdata\n",
    "                ),\n",
    "                marker=dict(color='red' if churn_value else 'lightgreen', opacity=0.5),\n",
    "                visible=False,\n",
    "                showlegend=True\n",
    "            )\n",
    "        )\n",
    "\n",
    "# Make the first set of traces (one for each Churn value) visible by default\n",
    "num_churn_values = len(df['Churn'].unique())\n",
    "for trace in fig.data[:num_churn_values]:\n",
    "    trace.visible = True\n",
    "\n",
    "# Create dropdown buttons for each trace\n",
    "buttons = []\n",
    "for i, column in enumerate(ordinal_columns):\n",
    "    visibility = [False] * len(fig.data)\n",
    "    start_idx = i * num_churn_values\n",
    "    for j in range(num_churn_values):\n",
    "        visibility[start_idx + j] = True\n",
    "    buttons.append(dict(\n",
    "        method='update',\n",
    "        label=split_on_capitals(column),\n",
    "        args=[{'visible': visibility},\n",
    "              {'title': f'{split_on_capitals(column)} by Churn Status',\n",
    "               'xaxis': {'title': split_on_capitals(column)},\n",
    "               'yaxis_title': 'Percentage'}]  # Update y-axis title dynamically\n",
    "    ))\n",
    "\n",
    "# Add dropdown menu to the layout\n",
    "fig.update_layout(\n",
    "    updatemenus=[dict(\n",
    "        buttons=buttons,\n",
    "        direction=\"down\",\n",
    "        pad={\"r\": 10, \"t\": 10},\n",
    "        showactive=True,\n",
    "        active=0,\n",
    "        x=0.80,\n",
    "        xanchor='left',\n",
    "        y=1.22,\n",
    "        yanchor='top'\n",
    "    )],\n",
    "    title=f'{split_on_capitals(ordinal_columns[0])} by Churn Status',\n",
    "    xaxis_title=split_on_capitals(ordinal_columns[0]),  \n",
    "    yaxis_title='Percentage',\n",
    "    barmode='group',\n",
    "    legend=dict(\n",
    "        title='Churn'  \n",
    "    ) \n",
    ")\n",
    "\n",
    "# Display the plot\n",
    "fig.show()\n",
    "fig.write_html(\"D:\\College\\Placements\\Projects\\Customer_Churn_Analysis\\Interactive Graphs\\churn_distribution_ordinal_columns.html\")"
   ]
  },
  {
   "cell_type": "code",
   "execution_count": null,
   "metadata": {},
   "outputs": [],
   "source": []
  }
 ],
 "metadata": {
  "kernelspec": {
   "display_name": "Python 3",
   "language": "python",
   "name": "python3"
  },
  "language_info": {
   "codemirror_mode": {
    "name": "ipython",
    "version": 3
   },
   "file_extension": ".py",
   "mimetype": "text/x-python",
   "name": "python",
   "nbconvert_exporter": "python",
   "pygments_lexer": "ipython3",
   "version": "3.10.6"
  }
 },
 "nbformat": 4,
 "nbformat_minor": 2
}
